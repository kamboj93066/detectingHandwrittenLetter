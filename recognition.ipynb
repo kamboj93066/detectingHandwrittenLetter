{
 "cells": [
  {
   "cell_type": "markdown",
   "id": "0fe4f6e1",
   "metadata": {},
   "source": [
    "Importing the libraries "
   ]
  },
  {
   "cell_type": "code",
   "execution_count": 19,
   "id": "3c5c0473",
   "metadata": {},
   "outputs": [],
   "source": [
    "import tensorflow as tf\n",
    "from tensorflow import keras\n",
    "from tensorflow.keras import layers\n",
    "from tensorflow.keras.preprocessing.image import ImageDataGenerator\n",
    "import os"
   ]
  },
  {
   "cell_type": "markdown",
   "id": "d2431e22",
   "metadata": {},
   "source": [
    "Setting up the path to the directory"
   ]
  },
  {
   "cell_type": "code",
   "execution_count": 20,
   "id": "bb15168d",
   "metadata": {},
   "outputs": [],
   "source": [
    "data_dir = \"/Users/ishantkamboj/Documents/Chandigarh university/SEM_5/AML/Exp/Experiment_7/converted_images\"\n"
   ]
  },
  {
   "cell_type": "markdown",
   "id": "6e7eee4e",
   "metadata": {},
   "source": [
    "Reading the name of the folders to get the type of images in the specified folders"
   ]
  },
  {
   "cell_type": "code",
   "execution_count": null,
   "id": "8c352a50",
   "metadata": {},
   "outputs": [],
   "source": [
    "import os\n",
    "\n",
    "class_names = sorted(os.listdir(data_dir))\n",
    "num_classes = len(class_names)\n",
    "\n",
    "class_to_label = {class_name: i for i, class_name in enumerate(class_names)}\n",
    "label_to_class = {i: class_name for i, class_name in enumerate(class_names)}\n"
   ]
  },
  {
   "cell_type": "markdown",
   "id": "e32e4c65",
   "metadata": {},
   "source": [
    "setting up the data in different ways and making training and testing data for better training"
   ]
  },
  {
   "cell_type": "code",
   "execution_count": 22,
   "id": "5dcfb2e9",
   "metadata": {},
   "outputs": [
    {
     "name": "stdout",
     "output_type": "stream",
     "text": [
      "Found 297971 images belonging to 26 classes.\n",
      "Found 74480 images belonging to 26 classes.\n"
     ]
    }
   ],
   "source": [
    "data_generator = ImageDataGenerator(\n",
    "    rescale=1.0 / 255,\n",
    "    rotation_range=20,\n",
    "    width_shift_range=0.2,\n",
    "    height_shift_range=0.2,\n",
    "    horizontal_flip=True,\n",
    "    validation_split=0.2\n",
    ")\n",
    "img_height = 28\n",
    "img_width = 28\n",
    "batch_size = 32\n",
    "train_data = data_generator.flow_from_directory(\n",
    "    data_dir,\n",
    "    target_size=(28, 28),\n",
    "    batch_size=batch_size,\n",
    "    class_mode='categorical',\n",
    "    subset='training'  # For training data\n",
    ")\n",
    "\n",
    "val_data = data_generator.flow_from_directory(\n",
    "    data_dir,\n",
    "    target_size=(28, 28),\n",
    "    batch_size=batch_size,\n",
    "    class_mode='categorical',\n",
    "    subset='validation'  # For validation data\n",
    ")\n"
   ]
  },
  {
   "cell_type": "markdown",
   "id": "938ad4ec",
   "metadata": {},
   "source": [
    "Defining and compiling the CNN model"
   ]
  },
  {
   "cell_type": "code",
   "execution_count": 33,
   "id": "1f7bc215",
   "metadata": {},
   "outputs": [],
   "source": [
    "num_classes = 26\n",
    "model = keras.Sequential([\n",
    "    layers.Conv2D(64, (3, 3), activation='relu', input_shape=(img_height, img_width, 3)),\n",
    "    layers.MaxPooling2D(2, 2),\n",
    "    layers.Conv2D(128, (3, 3), activation='relu'),\n",
    "    layers.MaxPooling2D(2, 2),\n",
    "    layers.Flatten(),\n",
    "    layers.Dense(256, activation='relu'),\n",
    "    layers.Dense(num_classes, activation='softmax')  \n",
    "])\n",
    "\n"
   ]
  },
  {
   "cell_type": "code",
   "execution_count": 34,
   "id": "a5d379c2",
   "metadata": {},
   "outputs": [],
   "source": [
    "model.compile(optimizer='adam', loss='categorical_crossentropy', metrics=['accuracy'])\n"
   ]
  },
  {
   "cell_type": "markdown",
   "id": "9b118855",
   "metadata": {},
   "source": [
    "Trainig the model on the data"
   ]
  },
  {
   "cell_type": "code",
   "execution_count": 35,
   "id": "6d5f0f67",
   "metadata": {},
   "outputs": [
    {
     "name": "stdout",
     "output_type": "stream",
     "text": [
      "Epoch 1/10\n",
      "9312/9312 [==============================] - 446s 48ms/step - loss: 0.4475 - accuracy: 0.8647 - val_loss: 0.2635 - val_accuracy: 0.9203\n",
      "Epoch 2/10\n",
      "9312/9312 [==============================] - 474s 51ms/step - loss: 0.2296 - accuracy: 0.9312 - val_loss: 0.2173 - val_accuracy: 0.9345\n",
      "Epoch 3/10\n",
      "9312/9312 [==============================] - 476s 51ms/step - loss: 0.1955 - accuracy: 0.9418 - val_loss: 0.1801 - val_accuracy: 0.9468\n",
      "Epoch 4/10\n",
      "9312/9312 [==============================] - 496s 53ms/step - loss: 0.1789 - accuracy: 0.9466 - val_loss: 0.1848 - val_accuracy: 0.9445\n",
      "Epoch 5/10\n",
      "9312/9312 [==============================] - 484s 52ms/step - loss: 0.1663 - accuracy: 0.9507 - val_loss: 0.1747 - val_accuracy: 0.9476\n",
      "Epoch 6/10\n",
      "9312/9312 [==============================] - 465s 50ms/step - loss: 0.1593 - accuracy: 0.9526 - val_loss: 0.1568 - val_accuracy: 0.9523\n",
      "Epoch 7/10\n",
      "9312/9312 [==============================] - 434s 47ms/step - loss: 0.1526 - accuracy: 0.9550 - val_loss: 0.1482 - val_accuracy: 0.9563\n",
      "Epoch 8/10\n",
      "9312/9312 [==============================] - 444s 48ms/step - loss: 0.1480 - accuracy: 0.9564 - val_loss: 0.1480 - val_accuracy: 0.9563\n",
      "Epoch 9/10\n",
      "9312/9312 [==============================] - 449s 48ms/step - loss: 0.1453 - accuracy: 0.9570 - val_loss: 0.1441 - val_accuracy: 0.9568\n",
      "Epoch 10/10\n",
      "9312/9312 [==============================] - 464s 50ms/step - loss: 0.1418 - accuracy: 0.9579 - val_loss: 0.1408 - val_accuracy: 0.9578\n"
     ]
    }
   ],
   "source": [
    "epochs = 10  # You can adjust this based on your dataset and available computing resources\n",
    "\n",
    "history = model.fit(train_data, epochs=epochs, validation_data=val_data)\n"
   ]
  },
  {
   "cell_type": "markdown",
   "id": "fb81922e",
   "metadata": {},
   "source": [
    "Testing the model on the test data"
   ]
  },
  {
   "cell_type": "code",
   "execution_count": 36,
   "id": "199aef44",
   "metadata": {},
   "outputs": [
    {
     "name": "stdout",
     "output_type": "stream",
     "text": [
      "Found 74480 images belonging to 26 classes.\n",
      "2328/2328 [==============================] - 52s 22ms/step - loss: 0.1417 - accuracy: 0.9581\n",
      "Test accuracy: 0.9580827355384827\n"
     ]
    }
   ],
   "source": [
    "test_data = data_generator.flow_from_directory(\n",
    "    data_dir,\n",
    "    target_size=(img_height, img_width),\n",
    "    batch_size=batch_size,\n",
    "    class_mode='categorical',\n",
    "    subset='validation'\n",
    ")\n",
    "\n",
    "test_loss, test_accuracy = model.evaluate(test_data)\n",
    "print(f'Test accuracy: {test_accuracy}')\n"
   ]
  },
  {
   "cell_type": "markdown",
   "id": "eec2b1e2",
   "metadata": {},
   "source": [
    "Saving the model"
   ]
  },
  {
   "cell_type": "code",
   "execution_count": 37,
   "id": "2e7b7f80",
   "metadata": {},
   "outputs": [
    {
     "name": "stderr",
     "output_type": "stream",
     "text": [
      "WARNING:absl:Found untraced functions such as _jit_compiled_convolution_op, _jit_compiled_convolution_op while saving (showing 2 of 2). These functions will not be directly callable after loading.\n"
     ]
    },
    {
     "name": "stdout",
     "output_type": "stream",
     "text": [
      "INFO:tensorflow:Assets written to: /Users/ishantkamboj/Documents/Chandigarh university/SEM_5/AML/Exp/Experiment_7/model/assets\n"
     ]
    },
    {
     "name": "stderr",
     "output_type": "stream",
     "text": [
      "INFO:tensorflow:Assets written to: /Users/ishantkamboj/Documents/Chandigarh university/SEM_5/AML/Exp/Experiment_7/model/assets\n"
     ]
    }
   ],
   "source": [
    "model.save('/Users/ishantkamboj/Documents/Chandigarh university/SEM_5/AML/Exp/Experiment_7/model')"
   ]
  }
 ],
 "metadata": {
  "kernelspec": {
   "display_name": "Python 3 (ipykernel)",
   "language": "python",
   "name": "python3"
  },
  "language_info": {
   "codemirror_mode": {
    "name": "ipython",
    "version": 3
   },
   "file_extension": ".py",
   "mimetype": "text/x-python",
   "name": "python",
   "nbconvert_exporter": "python",
   "pygments_lexer": "ipython3",
   "version": "3.10.9"
  }
 },
 "nbformat": 4,
 "nbformat_minor": 5
}
