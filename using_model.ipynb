{
 "cells": [
  {
   "cell_type": "markdown",
   "id": "e80528b2",
   "metadata": {},
   "source": [
    "Using the trained model"
   ]
  },
  {
   "cell_type": "code",
   "execution_count": 1,
   "id": "ba8808f3",
   "metadata": {},
   "outputs": [
    {
     "name": "stderr",
     "output_type": "stream",
     "text": [
      "2023-10-30 03:38:53.379646: I tensorflow/core/platform/cpu_feature_guard.cc:193] This TensorFlow binary is optimized with oneAPI Deep Neural Network Library (oneDNN) to use the following CPU instructions in performance-critical operations:  SSE4.1 SSE4.2\n",
      "To enable them in other operations, rebuild TensorFlow with the appropriate compiler flags.\n"
     ]
    }
   ],
   "source": [
    "import os\n",
    "import cv2\n",
    "import numpy as np\n",
    "from tensorflow import keras\n",
    "\n",
    "# Define the image size and path to your trained model\n",
    "img_height, img_width = 28, 28\n",
    "model_path = '/Users/ishantkamboj/Documents/Chandigarh university/SEM_5/AML/Exp/Experiment_7/model'\n",
    "\n",
    "# Load your trained model\n",
    "model = keras.models.load_model(model_path)\n",
    "\n",
    "# Define a function to make predictions\n",
    "def predict_alphabet(image_path):\n",
    "    # Load and preprocess the image\n",
    "    img = cv2.imread(image_path)\n",
    "    img = cv2.cvtColor(img, cv2.COLOR_BGR2RGB)  # Ensure RGB format\n",
    "    img = cv2.resize(img, (img_height, img_width))\n",
    "    img = img / 255.0  # Normalize pixel values to [0, 1]\n",
    "\n",
    "    # Reshape the image to match the model's input shape\n",
    "    img = np.reshape(img, (1, img_height, img_width, 3))\n",
    "\n",
    "    # Make a prediction\n",
    "    prediction = model.predict(img)\n",
    "\n",
    "    # Get the predicted class (alphabet letter)\n",
    "    predicted_class_index = np.argmax(prediction)\n",
    "    \n",
    "    # Map the class index back to the alphabet letter\n",
    "    alphabet = \"ABCDEFGHIJKLMNOPQRSTUVWXYZ\"  # 26 classes (A to Z)\n",
    "    predicted_alphabet = alphabet[predicted_class_index]\n",
    "\n",
    "    return predicted_alphabet\n"
   ]
  },
  {
   "cell_type": "code",
   "execution_count": 3,
   "id": "ced8104f",
   "metadata": {},
   "outputs": [
    {
     "name": "stdout",
     "output_type": "stream",
     "text": [
      "1/1 [==============================] - 0s 21ms/step\n",
      "Predicted Alphabet: I\n"
     ]
    }
   ],
   "source": [
    "\n",
    "image_path = '/Users/ishantkamboj/Downloads/I-2.png'\n",
    "predicted_alphabet = predict_alphabet(image_path)\n",
    "print(\"Predicted Alphabet:\", predicted_alphabet)\n"
   ]
  }
 ],
 "metadata": {
  "kernelspec": {
   "display_name": "Python 3 (ipykernel)",
   "language": "python",
   "name": "python3"
  },
  "language_info": {
   "codemirror_mode": {
    "name": "ipython",
    "version": 3
   },
   "file_extension": ".py",
   "mimetype": "text/x-python",
   "name": "python",
   "nbconvert_exporter": "python",
   "pygments_lexer": "ipython3",
   "version": "3.10.9"
  }
 },
 "nbformat": 4,
 "nbformat_minor": 5
}
